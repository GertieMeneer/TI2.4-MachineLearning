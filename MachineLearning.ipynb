{
 "cells": [
  {
   "cell_type": "code",
   "execution_count": null,
   "id": "e3a78768-c550-45ea-b981-fb204f46dcd6",
   "metadata": {},
   "outputs": [],
   "source": [
    "# Test the working of the Jupyter notebook."
   ]
  },
  {
   "cell_type": "code",
   "execution_count": null,
   "id": "41863b9f-a54c-4ffe-ae9c-5b05e5479c60",
   "metadata": {},
   "outputs": [],
   "source": [
    "print(\"Hello world!\")"
   ]
  },
  {
   "cell_type": "code",
   "execution_count": null,
   "id": "2c7dbb41-db0a-49c9-a843-849afb2d0736",
   "metadata": {},
   "outputs": [],
   "source": [
    "# Opdracht 4.1: ZTDL 1 - First Deep Learning Model"
   ]
  },
  {
   "cell_type": "code",
   "execution_count": null,
   "id": "78ff2a79-fea7-4396-8d29-a7f06f76c9de",
   "metadata": {},
   "outputs": [],
   "source": [
    "import numpy as np\n",
    "%matplotlib inline\n",
    "import matplotlib.pyplot as plt"
   ]
  },
  {
   "cell_type": "code",
   "execution_count": null,
   "id": "38a67dee",
   "metadata": {},
   "outputs": [],
   "source": [
    "# Hier worden de nodige bibliotheken geïmporteerd: NumPy voor numerieke berekeningen, \n",
    "# %matplotlib inline om ervoor te zorgen dat de grafieken binnen de notebook worden weergegeven, \n",
    "# en Matplotlib voor het maken van de grafieken."
   ]
  },
  {
   "cell_type": "code",
   "execution_count": null,
   "id": "0cb8e3f3",
   "metadata": {},
   "outputs": [],
   "source": [
    "from sklearn.datasets import make_circles\n",
    "\n",
    "X, y = make_circles(n_samples=1000,\n",
    "                    noise=0.1,\n",
    "                    factor=0.2,\n",
    "                    random_state=0)"
   ]
  },
  {
   "cell_type": "code",
   "execution_count": null,
   "id": "6146f381",
   "metadata": {},
   "outputs": [],
   "source": [
    "# De make_circles functie van Scikit-learn wordt gebruikt om een dataset te maken met cirkelvormige clusters. \n",
    "# De n_samples parameter bepaalt het aantal punten in de dataset, noise voegt ruis toe aan de gegevens \n",
    "# en factor bepaalt de afstand tussen de twee cirkels. random_state zorgt ervoor dat de gegenereerde gegevens herhaalbaar zijn."
   ]
  },
  {
   "cell_type": "code",
   "execution_count": null,
   "id": "ce6db268",
   "metadata": {},
   "outputs": [],
   "source": [
    "X"
   ]
  },
  {
   "cell_type": "code",
   "execution_count": null,
   "id": "d4d93c08",
   "metadata": {},
   "outputs": [],
   "source": [
    "# Dit geeft de gegevens X weer, die de coördinaten van de punten zijn."
   ]
  },
  {
   "cell_type": "code",
   "execution_count": null,
   "id": "9bbda058",
   "metadata": {},
   "outputs": [],
   "source": [
    "X.shape"
   ]
  },
  {
   "cell_type": "code",
   "execution_count": null,
   "id": "46f90001",
   "metadata": {},
   "outputs": [],
   "source": [
    "# Dit toont de vorm van de gegevens X, wat het aantal rijen en kolommen van de dataset weergeeft."
   ]
  },
  {
   "cell_type": "code",
   "execution_count": null,
   "id": "d81e019f",
   "metadata": {},
   "outputs": [],
   "source": [
    "plt.figure(figsize=(5, 5))\n",
    "plt.plot(X[y==0, 0], X[y==0, 1], 'ob', alpha=0.5)\n",
    "plt.plot(X[y==1, 0], X[y==1, 1], 'xr', alpha=0.5)\n",
    "plt.xlim(-1.5, 1.5)\n",
    "plt.ylim(-1.5, 1.5)\n",
    "plt.legend(['0', '1'])\n",
    "plt.title(\"Blue circles and Red crosses\")"
   ]
  },
  {
   "cell_type": "code",
   "execution_count": null,
   "id": "366b2c5c",
   "metadata": {},
   "outputs": [],
   "source": [
    "# Hier worden de punten gevisualiseerd met Matplotlib. \n",
    "# De punten worden geplot als blauwe cirkels ('ob') en rode kruizen ('xr'). \n",
    "# De alpha parameter bepaalt de transparantie van de punten. \n",
    "# Vervolgens worden de grenzen van de plot ingesteld en een legende en titel toegevoegd."
   ]
  },
  {
   "cell_type": "code",
   "execution_count": null,
   "id": "921f956e",
   "metadata": {},
   "outputs": [],
   "source": [
    "from tensorflow.keras.models import Sequential\n",
    "from tensorflow.keras.layers import Dense\n",
    "from tensorflow.keras.optimizers import SGD\n",
    "\n",
    "model = Sequential()\n",
    "\n",
    "model.add(Dense(4, input_shape=(2,), activation='tanh'))\n",
    "\n",
    "model.add(Dense(1, activation='sigmoid'))\n",
    "\n",
    "model.compile(SGD(learning_rate=0.5), 'binary_crossentropy', metrics=['accuracy'])\n",
    "\n",
    "model.fit(X, y, epochs=20)"
   ]
  },
  {
   "cell_type": "code",
   "execution_count": null,
   "id": "1c8d5cea",
   "metadata": {},
   "outputs": [],
   "source": [
    "# Nu begint het gedeelte dat een neuraal netwerk maakt en traint. \n",
    "# Eerst wordt een sequentiële model gedefinieerd. \n",
    "# Vervolgens worden de lagen van het model toegevoegd: \n",
    "# een invoerlaag met 2 neuronen (input_shape=(2,)), een verborgen laag met 4 neuronen en tanh activatiefunctie, \n",
    "# en een uitvoerlaag met 1 neuron en sigmoid activatiefunctie. \n",
    "# Het model wordt gecompileerd met Stochastic Gradient Descent (SGD) als optimizer en binair kruis-entropieverliesfunctie. \n",
    "# Het model wordt getraind op de gegevens X en y gedurende 20 epochs."
   ]
  },
  {
   "cell_type": "code",
   "execution_count": null,
   "id": "923f39d5",
   "metadata": {},
   "outputs": [],
   "source": [
    "hticks = np.linspace(-1.5, 1.5, 101)\n",
    "vticks = np.linspace(-1.5, 1.5, 101)\n",
    "aa, bb = np.meshgrid(hticks, vticks)\n",
    "ab = np.c_[aa.ravel(), bb.ravel()]\n",
    "c = model.predict(ab)\n",
    "cc = c.reshape(aa.shape)\n",
    "\n",
    "plt.figure(figsize=(5, 5))\n",
    "plt.contourf(aa, bb, cc, cmap='bwr', alpha=0.2)\n",
    "plt.plot(X[y==0, 0], X[y==0, 1], 'ob', alpha=0.5)\n",
    "plt.plot(X[y==1, 0], X[y==1, 1], 'xr', alpha=0.5)\n",
    "plt.xlim(-1.5, 1.5)\n",
    "plt.ylim(-1.5, 1.5)\n",
    "plt.legend(['0', '1'])\n",
    "plt.title(\"Blue circles and Red crosses\")"
   ]
  },
  {
   "cell_type": "code",
   "execution_count": null,
   "id": "d4bbff6e",
   "metadata": {},
   "outputs": [],
   "source": [
    "# Dit deel visualiseert de beslissingsgrens van het getrainde model. \n",
    "# Eerst worden roosterpunten gemaakt om te voorspellen met het model. \n",
    "# Vervolgens worden voorspellingen gedaan op deze roosterpunten en gevisualiseerd met een contourplot. \n",
    "# Daarna worden de originele punten geplot, net als eerder, maar nu bovenop de contourplot. \n",
    "# De legende en titel worden toegevoegd voor de plot."
   ]
  },
  {
   "cell_type": "code",
   "execution_count": null,
   "id": "47cae02b",
   "metadata": {},
   "outputs": [],
   "source": [
    "# Opdracht 4.2: ZTDL 2 - Data"
   ]
  },
  {
   "cell_type": "code",
   "execution_count": null,
   "id": "317c2238",
   "metadata": {},
   "outputs": [],
   "source": [
    "# STEF'S DEEL"
   ]
  },
  {
   "cell_type": "code",
   "execution_count": null,
   "id": "7551af30",
   "metadata": {},
   "outputs": [],
   "source": [
    "%matplotlib inline\n",
    "import matplotlib.pyplot as plt\n",
    "import pandas as pd\n",
    "import numpy as np\n",
    "\n",
    "df = pd.read_csv('Datasets/ifood_df.csv')\n",
    "\n",
    "df.head()\n",
    "\n"
   ]
  },
  {
   "cell_type": "code",
   "execution_count": null,
   "id": "c894b865",
   "metadata": {},
   "outputs": [],
   "source": [
    "df.info()"
   ]
  },
  {
   "cell_type": "code",
   "execution_count": null,
   "id": "48b6ee2f",
   "metadata": {},
   "outputs": [],
   "source": [
    "df.describe()"
   ]
  },
  {
   "cell_type": "code",
   "execution_count": null,
   "id": "4e2e9c7a",
   "metadata": {},
   "outputs": [],
   "source": [
    "df.query(\"Kidhome > 1\")"
   ]
  },
  {
   "cell_type": "code",
   "execution_count": null,
   "id": "7036e302",
   "metadata": {},
   "outputs": [],
   "source": [
    "df.sort_values('Kidhome', ascending = False).head()"
   ]
  },
  {
   "cell_type": "code",
   "execution_count": null,
   "id": "3191749b",
   "metadata": {},
   "outputs": [],
   "source": [
    "df['Income'].value_counts()"
   ]
  },
  {
   "cell_type": "code",
   "execution_count": null,
   "id": "e6765ea6",
   "metadata": {
    "scrolled": true
   },
   "outputs": [],
   "source": [
    "df.groupby(['Kidhome', 'Teenhome'])['Income'].count()"
   ]
  },
  {
   "cell_type": "code",
   "execution_count": null,
   "id": "31a8017c",
   "metadata": {},
   "outputs": [],
   "source": [
    "df['Income'].min()"
   ]
  },
  {
   "cell_type": "code",
   "execution_count": null,
   "id": "9315a136",
   "metadata": {},
   "outputs": [],
   "source": [
    "df['Income'].max()"
   ]
  },
  {
   "cell_type": "code",
   "execution_count": null,
   "id": "29862404",
   "metadata": {},
   "outputs": [],
   "source": [
    "df['Income'].mean()"
   ]
  },
  {
   "cell_type": "code",
   "execution_count": null,
   "id": "40ebfaaf",
   "metadata": {},
   "outputs": [],
   "source": [
    "df['Income'].median()"
   ]
  },
  {
   "cell_type": "code",
   "execution_count": null,
   "id": "3e373754",
   "metadata": {},
   "outputs": [],
   "source": [
    "df['Kidhome'] == 1\n",
    "kidhome = df.corr()['Income'].sort_values()\n",
    "kidhome"
   ]
  },
  {
   "cell_type": "code",
   "execution_count": null,
   "id": "026899ac",
   "metadata": {},
   "outputs": [],
   "source": [
    "df[['Income']].plot()"
   ]
  },
  {
   "cell_type": "code",
   "execution_count": null,
   "id": "6bbdd2e2",
   "metadata": {},
   "outputs": [],
   "source": [
    "df[['Income']].plot(style='.')"
   ]
  },
  {
   "cell_type": "code",
   "execution_count": null,
   "id": "6947a8c1",
   "metadata": {},
   "outputs": [],
   "source": [
    "df.plot(style='.', x='Age', y='Income')"
   ]
  },
  {
   "cell_type": "code",
   "execution_count": null,
   "id": "4477e8b3",
   "metadata": {},
   "outputs": [],
   "source": [
    "df[['Kidhome']].plot(kind='hist',\n",
    "        bins=50,\n",
    "        title='Histogram',\n",
    "        alpha=0.6);"
   ]
  },
  {
   "cell_type": "code",
   "execution_count": null,
   "id": "c46c511f",
   "metadata": {},
   "outputs": [],
   "source": [
    "df[['Income']].plot(kind='kde');"
   ]
  },
  {
   "cell_type": "code",
   "execution_count": null,
   "id": "2416570c",
   "metadata": {},
   "outputs": [],
   "source": [
    "incomeMeasurement = df['Income'] > 40000\n",
    "piecounts = incomeMeasurement.value_counts()\n",
    "piecounts"
   ]
  },
  {
   "cell_type": "code",
   "execution_count": null,
   "id": "0d0ec295",
   "metadata": {},
   "outputs": [],
   "source": [
    "piecounts.plot(kind='pie',\n",
    "               figsize=(5, 5),\n",
    "               explode=[0, 0.15],\n",
    "               labels=['<= 40000', '> 40000'],\n",
    "               autopct='%1.2f%%',\n",
    "               shadow=True,\n",
    "               startangle=90,\n",
    "               fontsize=16);"
   ]
  },
  {
   "cell_type": "code",
   "execution_count": null,
   "id": "b86d7740",
   "metadata": {},
   "outputs": [],
   "source": [
    "# GERT-JAN'S DEEL"
   ]
  },
  {
   "cell_type": "code",
   "execution_count": null,
   "id": "c14be0bb",
   "metadata": {
    "scrolled": true
   },
   "outputs": [],
   "source": [
    "%matplotlib inline\n",
    "import matplotlib.pyplot as plt\n",
    "import pandas as pd\n",
    "import numpy as np\n",
    "\n",
    "df = pd.read_csv('Datasets/vehicle_population_statistics.csv')\n",
    "\n",
    "df.head()"
   ]
  },
  {
   "cell_type": "code",
   "execution_count": null,
   "id": "a800cddc",
   "metadata": {},
   "outputs": [],
   "source": [
    "df.info()"
   ]
  },
  {
   "cell_type": "code",
   "execution_count": null,
   "id": "1cb27948",
   "metadata": {},
   "outputs": [],
   "source": [
    "df.describe()"
   ]
  },
  {
   "cell_type": "code",
   "execution_count": null,
   "id": "233b330d",
   "metadata": {},
   "outputs": [],
   "source": [
    "df.query(\"Cars > 100000\")"
   ]
  },
  {
   "cell_type": "code",
   "execution_count": null,
   "id": "e4280ce6",
   "metadata": {},
   "outputs": [],
   "source": [
    "df.sort_values('Cars', ascending = True).head()"
   ]
  },
  {
   "cell_type": "code",
   "execution_count": null,
   "id": "f01194ba",
   "metadata": {},
   "outputs": [],
   "source": [
    "df['Cars'].value_counts()"
   ]
  },
  {
   "cell_type": "code",
   "execution_count": null,
   "id": "7f6623c6",
   "metadata": {
    "scrolled": true
   },
   "outputs": [],
   "source": [
    "df.groupby(['Kidhome', 'Teenhome'])['Income'].count()"
   ]
  },
  {
   "cell_type": "code",
   "execution_count": null,
   "id": "c26a6f47",
   "metadata": {},
   "outputs": [],
   "source": [
    "df['Cars'].min()"
   ]
  },
  {
   "cell_type": "code",
   "execution_count": null,
   "id": "0e46607a",
   "metadata": {},
   "outputs": [],
   "source": [
    "df['Cars'].max()"
   ]
  },
  {
   "cell_type": "code",
   "execution_count": null,
   "id": "fa434474",
   "metadata": {},
   "outputs": [],
   "source": [
    "df['Cars'].mean()"
   ]
  },
  {
   "cell_type": "code",
   "execution_count": null,
   "id": "b007ce89",
   "metadata": {},
   "outputs": [],
   "source": [
    "df['Cars'].median()"
   ]
  },
  {
   "cell_type": "code",
   "execution_count": null,
   "id": "e1fbd147",
   "metadata": {},
   "outputs": [],
   "source": [
    "df['Kidhome'] == 1\n",
    "kidhome = df.corr()['Income'].sort_values()\n",
    "kidhome"
   ]
  },
  {
   "cell_type": "code",
   "execution_count": null,
   "id": "2b68efe0",
   "metadata": {},
   "outputs": [],
   "source": [
    "df[['Income']].plot()"
   ]
  },
  {
   "cell_type": "code",
   "execution_count": null,
   "id": "f8826fcd",
   "metadata": {},
   "outputs": [],
   "source": [
    "df[['Income']].plot(style='.')"
   ]
  },
  {
   "cell_type": "code",
   "execution_count": null,
   "id": "8f495aef",
   "metadata": {},
   "outputs": [],
   "source": [
    "df.plot(style='.', x='Age', y='Income')"
   ]
  },
  {
   "cell_type": "code",
   "execution_count": null,
   "id": "35664048",
   "metadata": {},
   "outputs": [],
   "source": [
    "df[['Kidhome']].plot(kind='hist',\n",
    "        bins=50,\n",
    "        title='Histogram',\n",
    "        alpha=0.6);"
   ]
  },
  {
   "cell_type": "code",
   "execution_count": null,
   "id": "e1055bf5",
   "metadata": {},
   "outputs": [],
   "source": [
    "df[['Income']].plot(kind='kde');"
   ]
  },
  {
   "cell_type": "code",
   "execution_count": null,
   "id": "1eda40fd",
   "metadata": {},
   "outputs": [],
   "source": [
    "incomeMeasurement = df['Income'] > 40000\n",
    "piecounts = incomeMeasurement.value_counts()\n",
    "piecounts"
   ]
  },
  {
   "cell_type": "code",
   "execution_count": null,
   "id": "b1965e48",
   "metadata": {},
   "outputs": [],
   "source": [
    "piecounts.plot(kind='pie',\n",
    "               figsize=(5, 5),\n",
    "               explode=[0, 0.15],\n",
    "               labels=['<= 40000', '> 40000'],\n",
    "               autopct='%1.2f%%',\n",
    "               shadow=True,\n",
    "               startangle=90,\n",
    "               fontsize=16);"
   ]
  },
  {
   "cell_type": "code",
   "execution_count": null,
   "id": "08424a7d",
   "metadata": {},
   "outputs": [],
   "source": [
    "# Opdracht 4.3"
   ]
  },
  {
   "cell_type": "code",
   "execution_count": null,
   "id": "38992655",
   "metadata": {},
   "outputs": [],
   "source": [
    "df = pd.read_csv('Datasets/car_data.csv')"
   ]
  },
  {
   "cell_type": "code",
   "execution_count": null,
   "id": "0d94d381",
   "metadata": {
    "scrolled": true
   },
   "outputs": [],
   "source": [
    "from tensorflow.keras.models import Sequential\n",
    "from tensorflow.keras.layers import Dense\n",
    "from tensorflow.keras.optimizers import Adam, SGD"
   ]
  },
  {
   "cell_type": "code",
   "execution_count": null,
   "id": "e7ce1935",
   "metadata": {
    "scrolled": true
   },
   "outputs": [],
   "source": [
    "data = pd.read_csv('Datasets/car_data.csv')"
   ]
  },
  {
   "cell_type": "code",
   "execution_count": null,
   "id": "c98fb42f",
   "metadata": {
    "scrolled": true
   },
   "outputs": [],
   "source": [
    "x = data['Kms_Driven'].values\n",
    "y = data['Selling_Price'].values"
   ]
  },
  {
   "cell_type": "code",
   "execution_count": null,
   "id": "8d0c0075",
   "metadata": {},
   "outputs": [],
   "source": [
    "model = Sequential()"
   ]
  },
  {
   "cell_type": "code",
   "execution_count": null,
   "id": "da7ff297",
   "metadata": {},
   "outputs": [],
   "source": [
    "model.add(Dense(1, input_shape=(1,)))"
   ]
  },
  {
   "cell_type": "code",
   "execution_count": null,
   "id": "cd8b1e7f",
   "metadata": {
    "scrolled": true
   },
   "outputs": [],
   "source": [
    "model.summary()"
   ]
  },
  {
   "cell_type": "code",
   "execution_count": null,
   "id": "82bc3bf4",
   "metadata": {},
   "outputs": [],
   "source": [
    "model.compile(Adam(learning_rate=0.8), 'mean_squared_error')"
   ]
  },
  {
   "cell_type": "code",
   "execution_count": null,
   "id": "26351f8c",
   "metadata": {},
   "outputs": [],
   "source": [
    "model.fit(x, y, epochs=100)"
   ]
  },
  {
   "cell_type": "code",
   "execution_count": null,
   "id": "bd6dd6cc",
   "metadata": {},
   "outputs": [],
   "source": [
    "y_pred = model.predict(x)"
   ]
  },
  {
   "cell_type": "code",
   "execution_count": null,
   "id": "bf9042b5",
   "metadata": {
    "scrolled": true
   },
   "outputs": [],
   "source": [
    "df.plot(kind='scatter', x='Kms_Driven', y='Selling_Price')"
   ]
  },
  {
   "cell_type": "code",
   "execution_count": null,
   "id": "8eb04d71",
   "metadata": {
    "scrolled": true
   },
   "outputs": [],
   "source": [
    "plt.plot(df['Kms_Driven'], y_pred, color='red')\n",
    "plt.title(\"Prediction\")\n",
    "plt.xlabel('Kilometers Driven')\n",
    "plt.ylabel('Predicted Values')"
   ]
  },
  {
   "cell_type": "code",
   "execution_count": null,
   "id": "362fda39",
   "metadata": {},
   "outputs": [],
   "source": [
    "W, B = model.get_weights()"
   ]
  },
  {
   "cell_type": "code",
   "execution_count": null,
   "id": "23770b52",
   "metadata": {},
   "outputs": [],
   "source": [
    "W"
   ]
  },
  {
   "cell_type": "code",
   "execution_count": null,
   "id": "d282c028",
   "metadata": {},
   "outputs": [],
   "source": [
    "B"
   ]
  },
  {
   "cell_type": "code",
   "execution_count": null,
   "id": "d845db48",
   "metadata": {},
   "outputs": [],
   "source": []
  },
  {
   "cell_type": "code",
   "execution_count": null,
   "id": "aa360f1f",
   "metadata": {},
   "outputs": [],
   "source": [
    "# Opdracht 5.1"
   ]
  },
  {
   "cell_type": "code",
   "execution_count": null,
   "id": "f3de703b",
   "metadata": {},
   "outputs": [],
   "source": [
    "from IPython.display import Image"
   ]
  },
  {
   "cell_type": "code",
   "execution_count": null,
   "id": "957dcf22",
   "metadata": {
    "scrolled": false
   },
   "outputs": [],
   "source": [
    "Image(filename = \"Sketch Neural Network.png\")"
   ]
  },
  {
   "cell_type": "code",
   "execution_count": null,
   "id": "597fc994",
   "metadata": {},
   "outputs": [],
   "source": [
    "# Een shallow model is een model met maar 1 laag. En dat kan alleen lineaire beslissingsgrenzen leren.\n",
    "# Als de dataset dus niet-liniair is zal het model niet goed werken.\n",
    "# Ook is het shallow model te simpel om ingewikkeldere patronen in data te herkennen."
   ]
  },
  {
   "cell_type": "code",
   "execution_count": null,
   "id": "4a6912e9",
   "metadata": {},
   "outputs": [],
   "source": []
  },
  {
   "cell_type": "code",
   "execution_count": null,
   "id": "30447b29",
   "metadata": {},
   "outputs": [],
   "source": [
    "# Opdracht 5.2"
   ]
  },
  {
   "cell_type": "code",
   "execution_count": null,
   "id": "e7ca8dbc",
   "metadata": {},
   "outputs": [],
   "source": []
  },
  {
   "cell_type": "code",
   "execution_count": null,
   "id": "7c539f8b",
   "metadata": {},
   "outputs": [],
   "source": [
    "# Opdracht 5.3"
   ]
  },
  {
   "cell_type": "markdown",
   "id": "cacf5da7",
   "metadata": {},
   "source": [
    "## Multiclass classification\n",
    "\n",
    "### The Iris dataset"
   ]
  },
  {
   "cell_type": "code",
   "execution_count": null,
   "id": "6aa717ea",
   "metadata": {},
   "outputs": [],
   "source": [
    "%matplotlib inline\n",
    "import matplotlib.pyplot as plt\n",
    "import pandas as pd\n",
    "import numpy as np\n",
    "from sklearn.model_selection import train_test_split\n",
    "from tensorflow.keras.models import Sequential\n",
    "from tensorflow.keras.layers import Dense\n",
    "from tensorflow.keras.optimizers import SGD, Adam\n",
    "from sklearn.metrics import accuracy_score, confusion_matrix\n",
    "\n",
    "df = pd.read_csv('Datasets/vehicle_population_statistics.csv')\n",
    "\n",
    "df.head()"
   ]
  },
  {
   "cell_type": "code",
   "execution_count": null,
   "id": "6af16437",
   "metadata": {
    "scrolled": true
   },
   "outputs": [],
   "source": [
    "df = pd.read_csv('Datasets/iris.csv')"
   ]
  },
  {
   "cell_type": "code",
   "execution_count": null,
   "id": "f5124a9a",
   "metadata": {},
   "outputs": [],
   "source": [
    "import seaborn as sns\n",
    "sns.pairplot(df, hue=\"species\")"
   ]
  },
  {
   "cell_type": "code",
   "execution_count": null,
   "id": "344f98a7",
   "metadata": {},
   "outputs": [],
   "source": [
    "df.head()"
   ]
  },
  {
   "cell_type": "code",
   "execution_count": null,
   "id": "fc17d0e4",
   "metadata": {},
   "outputs": [],
   "source": [
    "X = df.drop('species', axis=1)\n",
    "X.head()"
   ]
  },
  {
   "cell_type": "code",
   "execution_count": null,
   "id": "dde39728",
   "metadata": {},
   "outputs": [],
   "source": [
    "target_names = df['species'].unique()\n",
    "target_names"
   ]
  },
  {
   "cell_type": "code",
   "execution_count": null,
   "id": "5ad65d9f",
   "metadata": {},
   "outputs": [],
   "source": [
    "target_dict = {n:i for i, n in enumerate(target_names)}\n",
    "target_dict"
   ]
  },
  {
   "cell_type": "code",
   "execution_count": null,
   "id": "47576e44",
   "metadata": {},
   "outputs": [],
   "source": [
    "y= df['species'].map(target_dict)\n",
    "y.head()"
   ]
  },
  {
   "cell_type": "code",
   "execution_count": null,
   "id": "70d148b8",
   "metadata": {},
   "outputs": [],
   "source": [
    "from tensorflow.keras.utils import to_categorical"
   ]
  },
  {
   "cell_type": "code",
   "execution_count": null,
   "id": "e58a311e",
   "metadata": {},
   "outputs": [],
   "source": [
    "y_cat = to_categorical(y)"
   ]
  },
  {
   "cell_type": "code",
   "execution_count": null,
   "id": "a4576275",
   "metadata": {},
   "outputs": [],
   "source": [
    "y_cat[:10]"
   ]
  },
  {
   "cell_type": "code",
   "execution_count": null,
   "id": "ef733d1e",
   "metadata": {},
   "outputs": [],
   "source": [
    "X_train, X_test, y_train, y_test = train_test_split(X.values, y_cat,\n",
    "                                                    test_size=0.2)"
   ]
  },
  {
   "cell_type": "code",
   "execution_count": null,
   "id": "ec700a45",
   "metadata": {},
   "outputs": [],
   "source": [
    "model = Sequential()\n",
    "model.add(Dense(3, input_shape=(4,), activation='softmax'))\n",
    "model.compile(Adam(learning_rate=0.1),\n",
    "              loss='categorical_crossentropy',\n",
    "              metrics=['accuracy'])"
   ]
  },
  {
   "cell_type": "code",
   "execution_count": null,
   "id": "28fd7ead",
   "metadata": {},
   "outputs": [],
   "source": [
    "model.fit(X_train, y_train, epochs=20, validation_split=0.1)"
   ]
  },
  {
   "cell_type": "code",
   "execution_count": null,
   "id": "ca94c21e",
   "metadata": {},
   "outputs": [],
   "source": [
    "y_pred = model.predict(X_test)"
   ]
  },
  {
   "cell_type": "code",
   "execution_count": null,
   "id": "1e3428a3",
   "metadata": {},
   "outputs": [],
   "source": [
    "y_pred[:5]"
   ]
  },
  {
   "cell_type": "code",
   "execution_count": null,
   "id": "97288066",
   "metadata": {},
   "outputs": [],
   "source": [
    "y_test_class = np.argmax(y_test, axis=1)\n",
    "y_pred_class = np.argmax(y_pred, axis=1)"
   ]
  },
  {
   "cell_type": "code",
   "execution_count": null,
   "id": "0251d5fd",
   "metadata": {},
   "outputs": [],
   "source": [
    "from sklearn.metrics import classification_report"
   ]
  },
  {
   "cell_type": "code",
   "execution_count": null,
   "id": "1a53b50c",
   "metadata": {},
   "outputs": [],
   "source": [
    "print(classification_report(y_test_class, y_pred_class))"
   ]
  },
  {
   "cell_type": "code",
   "execution_count": null,
   "id": "62dbe26d",
   "metadata": {},
   "outputs": [],
   "source": [
    "confusion_matrix(y_test_class, y_pred_class)"
   ]
  },
  {
   "cell_type": "code",
   "execution_count": null,
   "id": "5bfaea90",
   "metadata": {
    "scrolled": true
   },
   "outputs": [],
   "source": [
    "Image(filename = \"Opdr 5.3 Sketch.png\")"
   ]
  },
  {
   "cell_type": "code",
   "execution_count": null,
   "id": "542cf2ba",
   "metadata": {},
   "outputs": [],
   "source": [
    "# Dit model heeft 1 hidden layer en een output layer.\n",
    "# Er wordt hierbij softmax gebruikt omdat het de output van het netwerk omzet in waarschijnlijkheden over meerdere klassen.\n",
    "# Dit is handig voor de iris dataset, waarbij elke sample tot 1 van de 3 klassen behoort. Hierdoor kan het model effectief getraind worden.\n",
    "# Hieronder zijn de resultaten te zien op basis van verschillende leersnelheden."
   ]
  },
  {
   "cell_type": "code",
   "execution_count": 107,
   "id": "7a0b0c2f",
   "metadata": {},
   "outputs": [
    {
     "data": {
      "image/png": "[encoded data removed]",
      "text/plain": [
       "<IPython.core.display.Image object>"
      ]
     },
     "execution_count": 107,
     "metadata": {},
     "output_type": "execute_result"
    }
   ],
   "source": [
    "Image(filename = \"Opdr 5.3 Results.png\")"
   ]
  },
  {
   "cell_type": "code",
   "execution_count": null,
   "id": "46b71cc4",
   "metadata": {},
   "outputs": [],
   "source": [
    "# Hier zien we dat een snelle leersnelheid een negatief resultaat heeft op het model waardoor de accuracy flink naar beneden gaat.\n",
    "# Er lijkt geen sprake te zijn van overfitting. De nauwkeurigheid op de testdata is consistent met de nauwkeurigheid op de trainingsdata.\n",
    "# Presicion: hoevel van de voorpselde positieve resultaten daadwerkelijk positief zijn.\n",
    "# Recall: hoeveel van de werkelijk positieve getallen juist zijn geidentificeerd door het model.\n",
    "# F1-sscore: 2x (gemiddelde van precision en recall)\n",
    "# Het classificatiemodel is betrouwbaarder bij een leersnelheid van 0.1 dan bij een leersnelheid van 0.0001 voor de Iris dataset.\n",
    "# In de confusion matrix worden 4 verschillende uitkomsten weergegeven: TP, FP, TN, FN. Hieruit kan je zien hoe goed het model presteert in het classificeren an de verschillende klassen.\n",
    "# In een confusion matrix kan je fouten identificeren, je kan de prestatie per klasse zien, de nauwkeurigheid en betrouwbaarheid en de optimalisatie en verbetering van het model zien. Het is dus belangrijke informatie over het model om te kunnen zien hoe goed het model daadwerkelijk is."
   ]
  }
 ],
 "metadata": {
  "kernelspec": {
   "display_name": "Python 3 (ipykernel)",
   "language": "python",
   "name": "python3"
  },
  "language_info": {
   "codemirror_mode": {
    "name": "ipython",
    "version": 3
   },
   "file_extension": ".py",
   "mimetype": "text/x-python",
   "name": "python",
   "nbconvert_exporter": "python",
   "pygments_lexer": "ipython3",
   "version": "3.7.16"
  }
 },
 "nbformat": 4,
 "nbformat_minor": 5
}

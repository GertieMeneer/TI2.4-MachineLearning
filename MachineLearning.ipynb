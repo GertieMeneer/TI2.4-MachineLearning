{
 "cells": [
  {
   "cell_type": "code",
   "execution_count": null,
   "id": "e3a78768-c550-45ea-b981-fb204f46dcd6",
   "metadata": {},
   "outputs": [],
   "source": [
    "# Test the working of the Jupyter notebook."
   ]
  },
  {
   "cell_type": "code",
   "execution_count": null,
   "id": "41863b9f-a54c-4ffe-ae9c-5b05e5479c60",
   "metadata": {},
   "outputs": [],
   "source": [
    "print(\"Hello world!\")"
   ]
  },
  {
   "cell_type": "code",
   "execution_count": null,
   "id": "2c7dbb41-db0a-49c9-a843-849afb2d0736",
   "metadata": {},
   "outputs": [],
   "source": [
    "# Opdracht 4.1: ZTDL 1 - First Deep Learning Model"
   ]
  },
  {
   "cell_type": "code",
   "execution_count": null,
   "id": "78ff2a79-fea7-4396-8d29-a7f06f76c9de",
   "metadata": {},
   "outputs": [],
   "source": [
    "import numpy as np\n",
    "%matplotlib inline\n",
    "import matplotlib.pyplot as plt"
   ]
  },
  {
   "cell_type": "code",
   "execution_count": null,
   "id": "38a67dee",
   "metadata": {},
   "outputs": [],
   "source": [
    "# Hier worden de nodige bibliotheken geïmporteerd: NumPy voor numerieke berekeningen, \n",
    "# %matplotlib inline om ervoor te zorgen dat de grafieken binnen de notebook worden weergegeven, \n",
    "# en Matplotlib voor het maken van de grafieken."
   ]
  },
  {
   "cell_type": "code",
   "execution_count": null,
   "id": "0cb8e3f3",
   "metadata": {},
   "outputs": [],
   "source": [
    "from sklearn.datasets import make_circles\n",
    "\n",
    "X, y = make_circles(n_samples=1000,\n",
    "                    noise=0.1,\n",
    "                    factor=0.2,\n",
    "                    random_state=0)"
   ]
  },
  {
   "cell_type": "code",
   "execution_count": null,
   "id": "6146f381",
   "metadata": {},
   "outputs": [],
   "source": [
    "# De make_circles functie van Scikit-learn wordt gebruikt om een dataset te maken met cirkelvormige clusters. \n",
    "# De n_samples parameter bepaalt het aantal punten in de dataset, noise voegt ruis toe aan de gegevens \n",
    "# en factor bepaalt de afstand tussen de twee cirkels. random_state zorgt ervoor dat de gegenereerde gegevens herhaalbaar zijn."
   ]
  },
  {
   "cell_type": "code",
   "execution_count": null,
   "id": "ce6db268",
   "metadata": {},
   "outputs": [],
   "source": [
    "X"
   ]
  },
  {
   "cell_type": "code",
   "execution_count": null,
   "id": "d4d93c08",
   "metadata": {},
   "outputs": [],
   "source": [
    "# Dit geeft de gegevens X weer, die de coördinaten van de punten zijn."
   ]
  },
  {
   "cell_type": "code",
   "execution_count": null,
   "id": "9bbda058",
   "metadata": {},
   "outputs": [],
   "source": [
    "X.shape"
   ]
  },
  {
   "cell_type": "code",
   "execution_count": null,
   "id": "46f90001",
   "metadata": {},
   "outputs": [],
   "source": [
    "# Dit toont de vorm van de gegevens X, wat het aantal rijen en kolommen van de dataset weergeeft."
   ]
  },
  {
   "cell_type": "code",
   "execution_count": null,
   "id": "d81e019f",
   "metadata": {},
   "outputs": [],
   "source": [
    "plt.figure(figsize=(5, 5))\n",
    "plt.plot(X[y==0, 0], X[y==0, 1], 'ob', alpha=0.5)\n",
    "plt.plot(X[y==1, 0], X[y==1, 1], 'xr', alpha=0.5)\n",
    "plt.xlim(-1.5, 1.5)\n",
    "plt.ylim(-1.5, 1.5)\n",
    "plt.legend(['0', '1'])\n",
    "plt.title(\"Blue circles and Red crosses\")"
   ]
  },
  {
   "cell_type": "code",
   "execution_count": null,
   "id": "366b2c5c",
   "metadata": {},
   "outputs": [],
   "source": [
    "# Hier worden de punten gevisualiseerd met Matplotlib. \n",
    "# De punten worden geplot als blauwe cirkels ('ob') en rode kruizen ('xr'). \n",
    "# De alpha parameter bepaalt de transparantie van de punten. \n",
    "# Vervolgens worden de grenzen van de plot ingesteld en een legende en titel toegevoegd."
   ]
  },
  {
   "cell_type": "code",
   "execution_count": null,
   "id": "921f956e",
   "metadata": {},
   "outputs": [],
   "source": [
    "from tensorflow.keras.models import Sequential\n",
    "from tensorflow.keras.layers import Dense\n",
    "from tensorflow.keras.optimizers import SGD\n",
    "\n",
    "model = Sequential()\n",
    "\n",
    "model.add(Dense(4, input_shape=(2,), activation='tanh'))\n",
    "\n",
    "model.add(Dense(1, activation='sigmoid'))\n",
    "\n",
    "model.compile(SGD(learning_rate=0.5), 'binary_crossentropy', metrics=['accuracy'])\n",
    "\n",
    "model.fit(X, y, epochs=20)"
   ]
  },
  {
   "cell_type": "code",
   "execution_count": null,
   "id": "1c8d5cea",
   "metadata": {},
   "outputs": [],
   "source": [
    "# Nu begint het gedeelte dat een neuraal netwerk maakt en traint. \n",
    "# Eerst wordt een sequentiële model gedefinieerd. \n",
    "# Vervolgens worden de lagen van het model toegevoegd: \n",
    "# een invoerlaag met 2 neuronen (input_shape=(2,)), een verborgen laag met 4 neuronen en tanh activatiefunctie, \n",
    "# en een uitvoerlaag met 1 neuron en sigmoid activatiefunctie. \n",
    "# Het model wordt gecompileerd met Stochastic Gradient Descent (SGD) als optimizer en binair kruis-entropieverliesfunctie. \n",
    "# Het model wordt getraind op de gegevens X en y gedurende 20 epochs."
   ]
  },
  {
   "cell_type": "code",
   "execution_count": null,
   "id": "923f39d5",
   "metadata": {},
   "outputs": [],
   "source": [
    "hticks = np.linspace(-1.5, 1.5, 101)\n",
    "vticks = np.linspace(-1.5, 1.5, 101)\n",
    "aa, bb = np.meshgrid(hticks, vticks)\n",
    "ab = np.c_[aa.ravel(), bb.ravel()]\n",
    "c = model.predict(ab)\n",
    "cc = c.reshape(aa.shape)\n",
    "\n",
    "plt.figure(figsize=(5, 5))\n",
    "plt.contourf(aa, bb, cc, cmap='bwr', alpha=0.2)\n",
    "plt.plot(X[y==0, 0], X[y==0, 1], 'ob', alpha=0.5)\n",
    "plt.plot(X[y==1, 0], X[y==1, 1], 'xr', alpha=0.5)\n",
    "plt.xlim(-1.5, 1.5)\n",
    "plt.ylim(-1.5, 1.5)\n",
    "plt.legend(['0', '1'])\n",
    "plt.title(\"Blue circles and Red crosses\")"
   ]
  },
  {
   "cell_type": "code",
   "execution_count": null,
   "id": "d4bbff6e",
   "metadata": {},
   "outputs": [],
   "source": [
    "# Dit deel visualiseert de beslissingsgrens van het getrainde model. \n",
    "# Eerst worden roosterpunten gemaakt om te voorspellen met het model. \n",
    "# Vervolgens worden voorspellingen gedaan op deze roosterpunten en gevisualiseerd met een contourplot. \n",
    "# Daarna worden de originele punten geplot, net als eerder, maar nu bovenop de contourplot. \n",
    "# De legende en titel worden toegevoegd voor de plot."
   ]
  },
  {
   "cell_type": "code",
   "execution_count": null,
   "id": "47cae02b",
   "metadata": {},
   "outputs": [],
   "source": [
    "# Opdracht 4.2: ZTDL 2 - Data"
   ]
  },
  {
   "cell_type": "code",
   "execution_count": null,
   "id": "317c2238",
   "metadata": {},
   "outputs": [],
   "source": [
    "# STEF'S DEEL"
   ]
  },
  {
   "cell_type": "code",
   "execution_count": null,
   "id": "7551af30",
   "metadata": {},
   "outputs": [],
   "source": [
    "%matplotlib inline\n",
    "import matplotlib.pyplot as plt\n",
    "import pandas as pd\n",
    "import numpy as np\n",
    "\n",
    "df = pd.read_csv('Datasets/ifood_df.csv')\n",
    "\n",
    "df.head()\n",
    "\n"
   ]
  },
  {
   "cell_type": "code",
   "execution_count": null,
   "id": "c894b865",
   "metadata": {},
   "outputs": [],
   "source": [
    "df.info()"
   ]
  },
  {
   "cell_type": "code",
   "execution_count": null,
   "id": "48b6ee2f",
   "metadata": {},
   "outputs": [],
   "source": [
    "df.describe()"
   ]
  },
  {
   "cell_type": "code",
   "execution_count": null,
   "id": "4e2e9c7a",
   "metadata": {},
   "outputs": [],
   "source": [
    "df.query(\"Kidhome > 1\")"
   ]
  },
  {
   "cell_type": "code",
   "execution_count": null,
   "id": "7036e302",
   "metadata": {},
   "outputs": [],
   "source": [
    "df.sort_values('Kidhome', ascending = False).head()"
   ]
  },
  {
   "cell_type": "code",
   "execution_count": null,
   "id": "3191749b",
   "metadata": {},
   "outputs": [],
   "source": [
    "df['Income'].value_counts()"
   ]
  },
  {
   "cell_type": "code",
   "execution_count": null,
   "id": "e6765ea6",
   "metadata": {
    "scrolled": true
   },
   "outputs": [],
   "source": [
    "df.groupby(['Kidhome', 'Teenhome'])['Income'].count()"
   ]
  },
  {
   "cell_type": "code",
   "execution_count": null,
   "id": "31a8017c",
   "metadata": {},
   "outputs": [],
   "source": [
    "df['Income'].min()"
   ]
  },
  {
   "cell_type": "code",
   "execution_count": null,
   "id": "9315a136",
   "metadata": {},
   "outputs": [],
   "source": [
    "df['Income'].max()"
   ]
  },
  {
   "cell_type": "code",
   "execution_count": null,
   "id": "29862404",
   "metadata": {},
   "outputs": [],
   "source": [
    "df['Income'].mean()"
   ]
  },
  {
   "cell_type": "code",
   "execution_count": null,
   "id": "40ebfaaf",
   "metadata": {},
   "outputs": [],
   "source": [
    "df['Income'].median()"
   ]
  },
  {
   "cell_type": "code",
   "execution_count": null,
   "id": "3e373754",
   "metadata": {},
   "outputs": [],
   "source": [
    "df['Kidhome'] == 1\n",
    "kidhome = df.corr()['Income'].sort_values()\n",
    "kidhome"
   ]
  },
  {
   "cell_type": "code",
   "execution_count": null,
   "id": "026899ac",
   "metadata": {},
   "outputs": [],
   "source": [
    "df[['Income']].plot()"
   ]
  },
  {
   "cell_type": "code",
   "execution_count": null,
   "id": "6bbdd2e2",
   "metadata": {},
   "outputs": [],
   "source": [
    "df[['Income']].plot(style='.')"
   ]
  },
  {
   "cell_type": "code",
   "execution_count": null,
   "id": "6947a8c1",
   "metadata": {},
   "outputs": [],
   "source": [
    "df.plot(style='.', x='Age', y='Income')"
   ]
  },
  {
   "cell_type": "code",
   "execution_count": null,
   "id": "4477e8b3",
   "metadata": {},
   "outputs": [],
   "source": [
    "df[['Kidhome']].plot(kind='hist',\n",
    "        bins=50,\n",
    "        title='Histogram',\n",
    "        alpha=0.6);"
   ]
  },
  {
   "cell_type": "code",
   "execution_count": null,
   "id": "c46c511f",
   "metadata": {},
   "outputs": [],
   "source": [
    "df[['Income']].plot(kind='kde');"
   ]
  },
  {
   "cell_type": "code",
   "execution_count": null,
   "id": "2416570c",
   "metadata": {},
   "outputs": [],
   "source": [
    "incomeMeasurement = df['Income'] > 40000\n",
    "piecounts = incomeMeasurement.value_counts()\n",
    "piecounts"
   ]
  },
  {
   "cell_type": "code",
   "execution_count": null,
   "id": "0d0ec295",
   "metadata": {},
   "outputs": [],
   "source": [
    "piecounts.plot(kind='pie',\n",
    "               figsize=(5, 5),\n",
    "               explode=[0, 0.15],\n",
    "               labels=['<= 40000', '> 40000'],\n",
    "               autopct='%1.2f%%',\n",
    "               shadow=True,\n",
    "               startangle=90,\n",
    "               fontsize=16);"
   ]
  },
  {
   "cell_type": "code",
   "execution_count": null,
   "id": "b86d7740",
   "metadata": {},
   "outputs": [],
   "source": [
    "# GERT-JAN'S DEEL"
   ]
  },
  {
   "cell_type": "code",
   "execution_count": null,
   "id": "c14be0bb",
   "metadata": {
    "scrolled": true
   },
   "outputs": [],
   "source": [
    "%matplotlib inline\n",
    "import matplotlib.pyplot as plt\n",
    "import pandas as pd\n",
    "import numpy as np\n",
    "\n",
    "df = pd.read_csv('Datasets/vehicle_population_statistics.csv')\n",
    "\n",
    "df.head()"
   ]
  },
  {
   "cell_type": "code",
   "execution_count": null,
   "id": "a800cddc",
   "metadata": {},
   "outputs": [],
   "source": [
    "df.info()"
   ]
  },
  {
   "cell_type": "code",
   "execution_count": null,
   "id": "1cb27948",
   "metadata": {},
   "outputs": [],
   "source": [
    "df.describe()"
   ]
  },
  {
   "cell_type": "code",
   "execution_count": null,
   "id": "233b330d",
   "metadata": {},
   "outputs": [],
   "source": [
    "df.query(\"Cars > 100000\")"
   ]
  },
  {
   "cell_type": "code",
   "execution_count": null,
   "id": "e4280ce6",
   "metadata": {},
   "outputs": [],
   "source": [
    "df.sort_values('Cars', ascending = True).head()"
   ]
  },
  {
   "cell_type": "code",
   "execution_count": null,
   "id": "f01194ba",
   "metadata": {},
   "outputs": [],
   "source": [
    "df['Cars'].value_counts()"
   ]
  },
  {
   "cell_type": "code",
   "execution_count": null,
   "id": "7f6623c6",
   "metadata": {
    "scrolled": true
   },
   "outputs": [],
   "source": [
    "df.groupby(['Kidhome', 'Teenhome'])['Income'].count()"
   ]
  },
  {
   "cell_type": "code",
   "execution_count": null,
   "id": "c26a6f47",
   "metadata": {},
   "outputs": [],
   "source": [
    "df['Cars'].min()"
   ]
  },
  {
   "cell_type": "code",
   "execution_count": null,
   "id": "0e46607a",
   "metadata": {},
   "outputs": [],
   "source": [
    "df['Cars'].max()"
   ]
  },
  {
   "cell_type": "code",
   "execution_count": null,
   "id": "fa434474",
   "metadata": {},
   "outputs": [],
   "source": [
    "df['Cars'].mean()"
   ]
  },
  {
   "cell_type": "code",
   "execution_count": null,
   "id": "b007ce89",
   "metadata": {},
   "outputs": [],
   "source": [
    "df['Cars'].median()"
   ]
  },
  {
   "cell_type": "code",
   "execution_count": null,
   "id": "e1fbd147",
   "metadata": {},
   "outputs": [],
   "source": [
    "df['Kidhome'] == 1\n",
    "kidhome = df.corr()['Income'].sort_values()\n",
    "kidhome"
   ]
  },
  {
   "cell_type": "code",
   "execution_count": null,
   "id": "2b68efe0",
   "metadata": {},
   "outputs": [],
   "source": [
    "df[['Income']].plot()"
   ]
  },
  {
   "cell_type": "code",
   "execution_count": null,
   "id": "f8826fcd",
   "metadata": {},
   "outputs": [],
   "source": [
    "df[['Income']].plot(style='.')"
   ]
  },
  {
   "cell_type": "code",
   "execution_count": null,
   "id": "8f495aef",
   "metadata": {},
   "outputs": [],
   "source": [
    "df.plot(style='.', x='Age', y='Income')"
   ]
  },
  {
   "cell_type": "code",
   "execution_count": null,
   "id": "35664048",
   "metadata": {},
   "outputs": [],
   "source": [
    "df[['Kidhome']].plot(kind='hist',\n",
    "        bins=50,\n",
    "        title='Histogram',\n",
    "        alpha=0.6);"
   ]
  },
  {
   "cell_type": "code",
   "execution_count": null,
   "id": "e1055bf5",
   "metadata": {},
   "outputs": [],
   "source": [
    "df[['Income']].plot(kind='kde');"
   ]
  },
  {
   "cell_type": "code",
   "execution_count": null,
   "id": "1eda40fd",
   "metadata": {},
   "outputs": [],
   "source": [
    "incomeMeasurement = df['Income'] > 40000\n",
    "piecounts = incomeMeasurement.value_counts()\n",
    "piecounts"
   ]
  },
  {
   "cell_type": "code",
   "execution_count": null,
   "id": "b1965e48",
   "metadata": {},
   "outputs": [],
   "source": [
    "piecounts.plot(kind='pie',\n",
    "               figsize=(5, 5),\n",
    "               explode=[0, 0.15],\n",
    "               labels=['<= 40000', '> 40000'],\n",
    "               autopct='%1.2f%%',\n",
    "               shadow=True,\n",
    "               startangle=90,\n",
    "               fontsize=16);"
   ]
  },
  {
   "cell_type": "code",
   "execution_count": null,
   "id": "08424a7d",
   "metadata": {},
   "outputs": [],
   "source": [
    "# Opdracht 4.3"
   ]
  },
  {
   "cell_type": "code",
   "execution_count": null,
   "id": "38992655",
   "metadata": {},
   "outputs": [],
   "source": [
    "df = pd.read_csv('Datasets/car_data.csv')"
   ]
  },
  {
   "cell_type": "code",
   "execution_count": null,
   "id": "0d94d381",
   "metadata": {
    "scrolled": true
   },
   "outputs": [],
   "source": [
    "from tensorflow.keras.models import Sequential\n",
    "from tensorflow.keras.layers import Dense\n",
    "from tensorflow.keras.optimizers import Adam, SGD"
   ]
  },
  {
   "cell_type": "code",
   "execution_count": null,
   "id": "e7ce1935",
   "metadata": {
    "scrolled": true
   },
   "outputs": [],
   "source": [
    "data = pd.read_csv('Datasets/car_data.csv')"
   ]
  },
  {
   "cell_type": "code",
   "execution_count": null,
   "id": "c98fb42f",
   "metadata": {
    "scrolled": true
   },
   "outputs": [],
   "source": [
    "x = data['Kms_Driven'].values\n",
    "y = data['Selling_Price'].values"
   ]
  },
  {
   "cell_type": "code",
   "execution_count": null,
   "id": "8d0c0075",
   "metadata": {},
   "outputs": [],
   "source": [
    "model = Sequential()"
   ]
  },
  {
   "cell_type": "code",
   "execution_count": null,
   "id": "da7ff297",
   "metadata": {},
   "outputs": [],
   "source": [
    "model.add(Dense(1, input_shape=(1,)))"
   ]
  },
  {
   "cell_type": "code",
   "execution_count": null,
   "id": "cd8b1e7f",
   "metadata": {
    "scrolled": true
   },
   "outputs": [],
   "source": [
    "model.summary()"
   ]
  },
  {
   "cell_type": "code",
   "execution_count": null,
   "id": "82bc3bf4",
   "metadata": {},
   "outputs": [],
   "source": [
    "model.compile(Adam(learning_rate=0.8), 'mean_squared_error')"
   ]
  },
  {
   "cell_type": "code",
   "execution_count": null,
   "id": "26351f8c",
   "metadata": {},
   "outputs": [],
   "source": [
    "model.fit(x, y, epochs=100)"
   ]
  },
  {
   "cell_type": "code",
   "execution_count": null,
   "id": "bd6dd6cc",
   "metadata": {},
   "outputs": [],
   "source": [
    "y_pred = model.predict(x)"
   ]
  },
  {
   "cell_type": "code",
   "execution_count": null,
   "id": "bf9042b5",
   "metadata": {
    "scrolled": true
   },
   "outputs": [],
   "source": [
    "df.plot(kind='scatter', x='Kms_Driven', y='Selling_Price')"
   ]
  },
  {
   "cell_type": "code",
   "execution_count": null,
   "id": "8eb04d71",
   "metadata": {
    "scrolled": true
   },
   "outputs": [],
   "source": [
    "plt.plot(df['Kms_Driven'], y_pred, color='red')\n",
    "plt.title(\"Prediction\")\n",
    "plt.xlabel('Kilometers Driven')\n",
    "plt.ylabel('Predicted Values')"
   ]
  },
  {
   "cell_type": "code",
   "execution_count": null,
   "id": "362fda39",
   "metadata": {},
   "outputs": [],
   "source": [
    "W, B = model.get_weights()"
   ]
  },
  {
   "cell_type": "code",
   "execution_count": null,
   "id": "23770b52",
   "metadata": {},
   "outputs": [],
   "source": [
    "W"
   ]
  },
  {
   "cell_type": "code",
   "execution_count": null,
   "id": "d282c028",
   "metadata": {},
   "outputs": [],
   "source": [
    "B"
   ]
  },
  {
   "cell_type": "code",
   "execution_count": null,
   "id": "aa360f1f",
   "metadata": {},
   "outputs": [],
   "source": [
    "# Opdracht 5.1"
   ]
  },
  {
   "cell_type": "code",
   "execution_count": null,
   "id": "f3de703b",
   "metadata": {},
   "outputs": [],
   "source": [
    "from IPython.display import Image"
   ]
  },
  {
   "cell_type": "code",
   "execution_count": null,
   "id": "957dcf22",
   "metadata": {
    "scrolled": false
   },
   "outputs": [],
   "source": [
    "Image(filename = \"Sketch Neural Network.png\")"
   ]
  },
  {
   "cell_type": "code",
   "execution_count": null,
   "id": "597fc994",
   "metadata": {},
   "outputs": [],
   "source": [
    "# Een shallow model is een model met maar 1 laag. En dat kan alleen lineaire beslissingsgrenzen leren.\n",
    "# Als de dataset dus niet-liniair is zal het model niet goed werken.\n",
    "# Ook is het shallow model te simpel om ingewikkeldere patronen in data te herkennen."
   ]
  },
  {
   "cell_type": "code",
   "execution_count": null,
   "id": "7c539f8b",
   "metadata": {},
   "outputs": [],
   "source": [
    "# Opdracht 5.3"
   ]
  },
  {
   "cell_type": "markdown",
   "id": "cacf5da7",
   "metadata": {},
   "source": [
    "## Multiclass classification\n",
    "\n",
    "### The Iris dataset"
   ]
  },
  {
   "cell_type": "code",
   "execution_count": null,
   "id": "6aa717ea",
   "metadata": {},
   "outputs": [],
   "source": [
    "%matplotlib inline\n",
    "import matplotlib.pyplot as plt\n",
    "import pandas as pd\n",
    "import numpy as np\n",
    "from sklearn.model_selection import train_test_split\n",
    "from tensorflow.keras.models import Sequential\n",
    "from tensorflow.keras.layers import Dense\n",
    "from tensorflow.keras.optimizers import SGD, Adam\n",
    "from sklearn.metrics import accuracy_score, confusion_matrix\n",
    "\n",
    "df = pd.read_csv('Datasets/vehicle_population_statistics.csv')\n",
    "\n",
    "df.head()"
   ]
  },
  {
   "cell_type": "code",
   "execution_count": null,
   "id": "6af16437",
   "metadata": {
    "scrolled": true
   },
   "outputs": [],
   "source": [
    "df = pd.read_csv('Datasets/iris.csv')"
   ]
  },
  {
   "cell_type": "code",
   "execution_count": null,
   "id": "f5124a9a",
   "metadata": {},
   "outputs": [],
   "source": [
    "import seaborn as sns\n",
    "sns.pairplot(df, hue=\"species\")"
   ]
  },
  {
   "cell_type": "code",
   "execution_count": null,
   "id": "344f98a7",
   "metadata": {},
   "outputs": [],
   "source": [
    "df.head()"
   ]
  },
  {
   "cell_type": "code",
   "execution_count": null,
   "id": "fc17d0e4",
   "metadata": {},
   "outputs": [],
   "source": [
    "X = df.drop('species', axis=1)\n",
    "X.head()"
   ]
  },
  {
   "cell_type": "code",
   "execution_count": null,
   "id": "dde39728",
   "metadata": {},
   "outputs": [],
   "source": [
    "target_names = df['species'].unique()\n",
    "target_names"
   ]
  },
  {
   "cell_type": "code",
   "execution_count": null,
   "id": "5ad65d9f",
   "metadata": {},
   "outputs": [],
   "source": [
    "target_dict = {n:i for i, n in enumerate(target_names)}\n",
    "target_dict"
   ]
  },
  {
   "cell_type": "code",
   "execution_count": null,
   "id": "47576e44",
   "metadata": {},
   "outputs": [],
   "source": [
    "y= df['species'].map(target_dict)\n",
    "y.head()"
   ]
  },
  {
   "cell_type": "code",
   "execution_count": null,
   "id": "70d148b8",
   "metadata": {},
   "outputs": [],
   "source": [
    "from tensorflow.keras.utils import to_categorical"
   ]
  },
  {
   "cell_type": "code",
   "execution_count": null,
   "id": "e58a311e",
   "metadata": {},
   "outputs": [],
   "source": [
    "y_cat = to_categorical(y)"
   ]
  },
  {
   "cell_type": "code",
   "execution_count": null,
   "id": "a4576275",
   "metadata": {},
   "outputs": [],
   "source": [
    "y_cat[:10]"
   ]
  },
  {
   "cell_type": "code",
   "execution_count": null,
   "id": "ef733d1e",
   "metadata": {},
   "outputs": [],
   "source": [
    "X_train, X_test, y_train, y_test = train_test_split(X.values, y_cat,\n",
    "                                                    test_size=0.2)"
   ]
  },
  {
   "cell_type": "code",
   "execution_count": null,
   "id": "ec700a45",
   "metadata": {},
   "outputs": [],
   "source": [
    "model = Sequential()\n",
    "model.add(Dense(3, input_shape=(4,), activation='softmax'))\n",
    "model.compile(Adam(learning_rate=0.1),\n",
    "              loss='categorical_crossentropy',\n",
    "              metrics=['accuracy'])"
   ]
  },
  {
   "cell_type": "code",
   "execution_count": null,
   "id": "28fd7ead",
   "metadata": {},
   "outputs": [],
   "source": [
    "model.fit(X_train, y_train, epochs=20, validation_split=0.1)"
   ]
  },
  {
   "cell_type": "code",
   "execution_count": null,
   "id": "ca94c21e",
   "metadata": {},
   "outputs": [],
   "source": [
    "y_pred = model.predict(X_test)"
   ]
  },
  {
   "cell_type": "code",
   "execution_count": null,
   "id": "1e3428a3",
   "metadata": {},
   "outputs": [],
   "source": [
    "y_pred[:5]"
   ]
  },
  {
   "cell_type": "code",
   "execution_count": null,
   "id": "97288066",
   "metadata": {},
   "outputs": [],
   "source": [
    "y_test_class = np.argmax(y_test, axis=1)\n",
    "y_pred_class = np.argmax(y_pred, axis=1)"
   ]
  },
  {
   "cell_type": "code",
   "execution_count": null,
   "id": "0251d5fd",
   "metadata": {},
   "outputs": [],
   "source": [
    "from sklearn.metrics import classification_report"
   ]
  },
  {
   "cell_type": "code",
   "execution_count": null,
   "id": "1a53b50c",
   "metadata": {},
   "outputs": [],
   "source": [
    "print(classification_report(y_test_class, y_pred_class))"
   ]
  },
  {
   "cell_type": "code",
   "execution_count": null,
   "id": "62dbe26d",
   "metadata": {},
   "outputs": [],
   "source": [
    "confusion_matrix(y_test_class, y_pred_class)"
   ]
  },
  {
   "cell_type": "code",
   "execution_count": null,
   "id": "5bfaea90",
   "metadata": {
    "scrolled": true
   },
   "outputs": [],
   "source": [
    "Image(filename = \"Opdr 5.3 Sketch.png\")"
   ]
  },
  {
   "cell_type": "code",
   "execution_count": null,
   "id": "542cf2ba",
   "metadata": {},
   "outputs": [],
   "source": [
    "# Dit model heeft 1 hidden layer en een output layer.\n",
    "# Er wordt hierbij softmax gebruikt omdat het de output van het netwerk omzet in waarschijnlijkheden over meerdere klassen.\n",
    "# Dit is handig voor de iris dataset, waarbij elke sample tot 1 van de 3 klassen behoort. Hierdoor kan het model effectief getraind worden.\n",
    "# Hieronder zijn de resultaten te zien op basis van verschillende leersnelheden."
   ]
  },
  {
   "cell_type": "code",
   "execution_count": null,
   "id": "7a0b0c2f",
   "metadata": {},
   "outputs": [],
   "source": [
    "Image(filename = \"Opdr 5.3 Results.png\")"
   ]
  },
  {
   "cell_type": "code",
   "execution_count": null,
   "id": "90acbd63",
   "metadata": {},
   "outputs": [],
   "source": [
    "# Hier zien we dat een snelle leersnelheid een negatief resultaat heeft op het model waardoor de accuracy flink naar beneden gaat.\n",
    "# Er lijkt geen sprake te zijn van overfitting. De nauwkeurigheid op de testdata is consistent met de nauwkeurigheid op de trainingsdata.\n",
    "# Presicion: hoevel van de voorpselde positieve resultaten daadwerkelijk positief zijn.\n",
    "# Recall: hoeveel van de werkelijk positieve getallen juist zijn geidentificeerd door het model.\n",
    "# F1-sscore: 2x (gemiddelde van precision en recall)\n",
    "# Het classificatiemodel is betrouwbaarder bij een leersnelheid van 0.1 dan bij een leersnelheid van 0.0001 voor de Iris dataset.\n",
    "# In de confusion matrix worden 4 verschillende uitkomsten weergegeven: TP, FP, TN, FN. Hieruit kan je zien hoe goed het model presteert in het classificeren an de verschillende klassen.\n",
    "# In een confusion matrix kan je fouten identificeren, je kan de prestatie per klasse zien, de nauwkeurigheid en betrouwbaarheid en de optimalisatie en verbetering van het model zien. Het is dus belangrijke informatie over het model om te kunnen zien hoe goed het model daadwerkelijk is."
   ]
  },
  {
   "cell_type": "code",
   "execution_count": null,
   "id": "360df872-301f-4409-adb6-4b173f06df7d",
   "metadata": {},
   "outputs": [],
   "source": [
    "# Opdracht 5.2 "
   ]
  },
  {
   "cell_type": "code",
   "execution_count": null,
   "id": "4ffbde22-c46b-4bab-ad60-2452dd86cfa4",
   "metadata": {},
   "outputs": [],
   "source": [
    "from IPython.display import Image\n",
    "Image(filename = \"Sketch Neural Network 2.png\")"
   ]
  },
  {
   "cell_type": "code",
   "execution_count": null,
   "id": "e6bafd1c-f551-4e6d-88d5-6c7441a74fa3",
   "metadata": {},
   "outputs": [],
   "source": [
    "# Dit model heeft 3 lagen 2 hidden layers en 1 output layer"
   ]
  },
  {
   "cell_type": "code",
   "execution_count": null,
   "id": "360622ed-e61e-4992-94ab-7908f2ea1420",
   "metadata": {},
   "outputs": [],
   "source": [
    "# De gebruikte Optimizer is Adam. \n",
    "# Een optimizer is een algoritme dat de gewichten van het neurale netwerk aanpast om de verliesfunctie te minimaliseren."
   ]
  },
  {
   "cell_type": "code",
   "execution_count": null,
   "id": "b582e3ab-09ef-4c32-bc9f-76911843b707",
   "metadata": {},
   "outputs": [],
   "source": [
    "# De accuracy score van de train set is 0.999 en de accuracy score van de test set is 1.000 \n",
    "# Dit betekent dat het model tijdens de train set goed kan classificeren en tijdens de test set kan het model ook goed\n",
    "# classificeren met nieuwe data."
   ]
  },
  {
   "cell_type": "code",
   "execution_count": null,
   "id": "56172431",
   "metadata": {},
   "outputs": [],
   "source": [
    "# Het verschil tussen in accuracy tussen de trainingset en de testset is klein. Ook zijn beide scores hoog.\n",
    "# Dit betekent dat er waarschijnlijk geen sprake is van overfitting."
   ]
  },
  {
   "cell_type": "code",
   "execution_count": null,
   "id": "325a8f09",
   "metadata": {},
   "outputs": [],
   "source": [
    "# Opdracht 5.4 "
   ]
  },
  {
   "cell_type": "code",
   "execution_count": null,
   "id": "59aea7bc",
   "metadata": {},
   "outputs": [],
   "source": [
    "import pandas as pd\n",
    "\n",
    "# Load the dataset\n",
    "file_path = 'Datasets/mushroom_cleaned.csv'\n",
    "data = pd.read_csv(file_path)\n",
    "\n",
    "# Display the first few rows of the dataset\n",
    "data.head()"
   ]
  },
  {
   "cell_type": "code",
   "execution_count": null,
   "id": "85a7fcb2",
   "metadata": {},
   "outputs": [],
   "source": [
    "from sklearn.model_selection import train_test_split\n",
    "from sklearn.preprocessing import StandardScaler\n",
    "\n",
    "# Separate features and target variable\n",
    "X = data.drop('class', axis=1)\n",
    "y = data['class']\n",
    "\n",
    "# Split the data into training and testing sets\n",
    "X_train, X_test, y_train, y_test = train_test_split(X, y, test_size=0.2, random_state=42)\n",
    "\n",
    "# Standardize the features\n",
    "scaler = StandardScaler()\n",
    "X_train = scaler.fit_transform(X_train)\n",
    "X_test = scaler.transform(X_test)"
   ]
  },
  {
   "cell_type": "code",
   "execution_count": null,
   "id": "fbf486aa",
   "metadata": {},
   "outputs": [],
   "source": [
    "from tensorflow.keras.models import Sequential\n",
    "from tensorflow.keras.layers import Dense\n",
    "from tensorflow.keras.optimizers import Adam\n",
    "\n",
    "# Build the neural network\n",
    "model = Sequential()\n",
    "model.add(Dense(16, input_shape=(X_train.shape[1],), activation='relu'))\n",
    "model.add(Dense(8, activation='relu'))\n",
    "model.add(Dense(1, activation='sigmoid'))\n",
    "\n",
    "# Compile the model\n",
    "model.compile(Adam(learning_rate=0.01), loss='binary_crossentropy', metrics=['accuracy'])\n",
    "\n",
    "# Train the model\n",
    "model.fit(X_train, y_train, epochs=50, batch_size=10, validation_split=0.1, verbose=1)"
   ]
  },
  {
   "cell_type": "code",
   "execution_count": null,
   "id": "d2cec14a",
   "metadata": {},
   "outputs": [],
   "source": [
    "# Evaluate the model\n",
    "results = model.evaluate(X_test, y_test)\n",
    "print(f\"Test Loss: {results[0]}\")\n",
    "print(f\"Test Accuracy: {results[1]}\")\n",
    "\n",
    "# Predictions and confusion matrix\n",
    "from sklearn.metrics import confusion_matrix, classification_report\n",
    "\n",
    "y_test_pred = (model.predict(X_test) > 0.5).astype(\"int32\")\n",
    "\n",
    "print(classification_report(y_test, y_test_pred))\n",
    "print(confusion_matrix(y_test, y_test_pred))"
   ]
  },
  {
   "cell_type": "code",
   "execution_count": 13,
   "id": "d8bafc96",
   "metadata": {},
   "outputs": [
    {
     "name": "stdout",
     "output_type": "stream",
     "text": [
      "Found 2048 images belonging to 2 classes.\n",
      "Found 832 images belonging to 2 classes.\n"
     ]
    }
   ],
   "source": [
    "import os\n",
    "import numpy as np\n",
    "import matplotlib.pyplot as plt\n",
    "from keras.preprocessing.image import ImageDataGenerator\n",
    "from keras.models import Sequential\n",
    "from keras.layers import Conv2D, MaxPooling2D, Flatten, Dense, Dropout\n",
    "from keras.callbacks import EarlyStopping, ModelCheckpoint\n",
    "\n",
    "train_dir = 'Datasets/data/train'\n",
    "validation_dir = 'Datasets/data/validation'\n",
    "\n",
    "train_datagen = ImageDataGenerator(rescale=1./255, rotation_range=40, width_shift_range=0.2, height_shift_range=0.2,\n",
    "                                   shear_range=0.2,\n",
    "                                   zoom_range=0.2,\n",
    "                                   horizontal_flip=True,\n",
    "                                   fill_mode='nearest')\n",
    "\n",
    "validation_datagen = ImageDataGenerator(rescale=1./255)\n",
    "\n",
    "train_generator = train_datagen.flow_from_directory(train_dir, target_size=(150, 150),  batch_size=32, class_mode='binary')\n",
    "\n",
    "validation_generator = validation_datagen.flow_from_directory(validation_dir, target_size=(150, 150), batch_size=32,\n",
    "                                                              class_mode='binary')"
   ]
  },
  {
   "cell_type": "code",
   "execution_count": 14,
   "id": "5ea51289",
   "metadata": {},
   "outputs": [
    {
     "name": "stdout",
     "output_type": "stream",
     "text": [
      "Model: \"sequential_5\"\n",
      "_________________________________________________________________\n",
      "Layer (type)                 Output Shape              Param #   \n",
      "=================================================================\n",
      "conv2d_20 (Conv2D)           (None, 148, 148, 32)      896       \n",
      "_________________________________________________________________\n",
      "max_pooling2d_20 (MaxPooling (None, 74, 74, 32)        0         \n",
      "_________________________________________________________________\n",
      "conv2d_21 (Conv2D)           (None, 72, 72, 64)        18496     \n",
      "_________________________________________________________________\n",
      "max_pooling2d_21 (MaxPooling (None, 36, 36, 64)        0         \n",
      "_________________________________________________________________\n",
      "conv2d_22 (Conv2D)           (None, 34, 34, 128)       73856     \n",
      "_________________________________________________________________\n",
      "max_pooling2d_22 (MaxPooling (None, 17, 17, 128)       0         \n",
      "_________________________________________________________________\n",
      "conv2d_23 (Conv2D)           (None, 15, 15, 128)       147584    \n",
      "_________________________________________________________________\n",
      "max_pooling2d_23 (MaxPooling (None, 7, 7, 128)         0         \n",
      "_________________________________________________________________\n",
      "flatten_5 (Flatten)          (None, 6272)              0         \n",
      "_________________________________________________________________\n",
      "dense_10 (Dense)             (None, 512)               3211776   \n",
      "_________________________________________________________________\n",
      "dropout_5 (Dropout)          (None, 512)               0         \n",
      "_________________________________________________________________\n",
      "dense_11 (Dense)             (None, 1)                 513       \n",
      "=================================================================\n",
      "Total params: 3,453,121\n",
      "Trainable params: 3,453,121\n",
      "Non-trainable params: 0\n",
      "_________________________________________________________________\n"
     ]
    }
   ],
   "source": [
    "model = Sequential([\n",
    "    Conv2D(32, (3, 3), activation='relu', input_shape=(150, 150, 3)),\n",
    "    MaxPooling2D((2, 2)),\n",
    "    Conv2D(64, (3, 3), activation='relu'),\n",
    "    MaxPooling2D((2, 2)),\n",
    "    Conv2D(128, (3, 3), activation='relu'),\n",
    "    MaxPooling2D((2, 2)),\n",
    "    Conv2D(128, (3, 3), activation='relu'),\n",
    "    MaxPooling2D((2, 2)),\n",
    "    Flatten(),\n",
    "    Dense(512, activation='relu'),\n",
    "    Dropout(0.5),\n",
    "    Dense(1, activation='sigmoid')\n",
    "])\n",
    "\n",
    "model.compile(loss='binary_crossentropy',\n",
    "              optimizer='adam',\n",
    "              metrics=['accuracy'])\n",
    "\n",
    "model.summary()"
   ]
  },
  {
   "cell_type": "code",
   "execution_count": 16,
   "id": "4a1dcdd9",
   "metadata": {},
   "outputs": [
    {
     "name": "stdout",
     "output_type": "stream",
     "text": [
      "Epoch 1/5\n",
      "64/64 [==============================] - 29s 458ms/step - loss: 0.6651 - accuracy: 0.5898 - val_loss: 0.6827 - val_accuracy: 0.5192\n",
      "Epoch 2/5\n",
      "64/64 [==============================] - 29s 452ms/step - loss: 0.6821 - accuracy: 0.5537 - val_loss: 0.6573 - val_accuracy: 0.6490\n",
      "Epoch 3/5\n",
      "64/64 [==============================] - 28s 444ms/step - loss: 0.6550 - accuracy: 0.6201 - val_loss: 0.7135 - val_accuracy: 0.5577\n",
      "Epoch 4/5\n",
      "64/64 [==============================] - 28s 443ms/step - loss: 0.6598 - accuracy: 0.5923 - val_loss: 0.6168 - val_accuracy: 0.6611\n",
      "Epoch 5/5\n",
      "64/64 [==============================] - 29s 445ms/step - loss: 0.6345 - accuracy: 0.6367 - val_loss: 0.5984 - val_accuracy: 0.6851\n"
     ]
    }
   ],
   "source": [
    "# Define callbacks\n",
    "early_stopping = EarlyStopping(monitor='val_loss', patience=10, restore_best_weights=True)\n",
    "model_checkpoint = ModelCheckpoint('cat_dog_classifier.h5', monitor='val_loss', save_best_only=True)\n",
    "\n",
    "history = model.fit(\n",
    "    train_generator,\n",
    "    steps_per_epoch=train_generator.samples // train_generator.batch_size,\n",
    "    epochs=5,\n",
    "    validation_data=validation_generator,\n",
    "    validation_steps=validation_generator.samples // validation_generator.batch_size,\n",
    "    callbacks=[early_stopping, model_checkpoint])"
   ]
  },
  {
   "cell_type": "code",
   "execution_count": 18,
   "id": "71c9d61e",
   "metadata": {},
   "outputs": [
    {
     "data": {
      "image/png": "[encoded data removed]",
      "text/plain": [
       "<Figure size 1200x800 with 2 Axes>"
      ]
     },
     "metadata": {},
     "output_type": "display_data"
    }
   ],
   "source": [
    "# Plot training & validation accuracy and loss values\n",
    "acc = history.history['accuracy']\n",
    "val_acc = history.history['val_accuracy']\n",
    "loss = history.history['loss']\n",
    "val_loss = history.history['val_loss']\n",
    "\n",
    "epochs_range = range(len(acc))\n",
    "\n",
    "plt.figure(figsize=(12, 8))\n",
    "plt.subplot(1, 2, 1)\n",
    "plt.plot(epochs_range, acc, label='Training Accuracy')\n",
    "plt.legend(loc='lower right')\n",
    "plt.title('Training Accuracy')\n",
    "\n",
    "plt.subplot(1, 2, 2)\n",
    "plt.plot(epochs_range, loss, label='Training Loss')\n",
    "plt.legend(loc='upper right')\n",
    "plt.title('Training Loss')\n",
    "plt.show()"
   ]
  },
  {
   "cell_type": "code",
   "execution_count": 19,
   "id": "426138a6",
   "metadata": {},
   "outputs": [],
   "source": [
    "model.save('cat_dog_classifier_final.h5')"
   ]
  },
  {
   "cell_type": "code",
   "execution_count": 22,
   "id": "152450b4",
   "metadata": {},
   "outputs": [
    {
     "name": "stdout",
     "output_type": "stream",
     "text": [
      "It's a cat!\n"
     ]
    }
   ],
   "source": [
    "from keras.models import load_model\n",
    "from keras.preprocessing import image\n",
    "\n",
    "# Load the model\n",
    "model = load_model('cat_dog_classifier_final.h5')\n",
    "\n",
    "# Predict function\n",
    "def predict_image(img_path):\n",
    "    img = image.load_img(img_path, target_size=(150, 150))\n",
    "    img_tensor = image.img_to_array(img) / 255.0\n",
    "    img_tensor = np.expand_dims(img_tensor, axis=0)\n",
    "    \n",
    "    prediction = model.predict(img_tensor)\n",
    "    if prediction[0] > 0.5:\n",
    "        print(\"It's a dog!\")\n",
    "    else:\n",
    "        print(\"It's a cat!\")\n",
    "\n",
    "# Example prediction\n",
    "predict_image('Datasets/data/validation/cats/cat.1020.jpg')"
   ]
  },
  {
   "cell_type": "code",
   "execution_count": null,
   "id": "3d29d717",
   "metadata": {},
   "outputs": [],
   "source": []
  }
 ],
 "metadata": {
  "kernelspec": {
   "display_name": "Python 3 (ipykernel)",
   "language": "python",
   "name": "python3"
  },
  "language_info": {
   "codemirror_mode": {
    "name": "ipython",
    "version": 3
   },
   "file_extension": ".py",
   "mimetype": "text/x-python",
   "name": "python",
   "nbconvert_exporter": "python",
   "pygments_lexer": "ipython3",
   "version": "3.7.16"
  }
 },
 "nbformat": 4,
 "nbformat_minor": 5
}
